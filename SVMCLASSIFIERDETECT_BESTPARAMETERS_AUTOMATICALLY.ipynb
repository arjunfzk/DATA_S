{
 "cells": [
  {
   "cell_type": "code",
   "execution_count": 17,
   "metadata": {},
   "outputs": [],
   "source": [
    "from sklearn import svm,datasets\n",
    "import numpy as np\n",
    "from sklearn.model_selection import cross_val_score,KFold,GridSearchCV\n",
    "from sklearn.neighbors import KNeighborsClassifier\n",
    "from sklearn.model_selection import train_test_split\n",
    "import matplotlib.pyplot as plt\n"
   ]
  },
  {
   "cell_type": "code",
   "execution_count": 18,
   "metadata": {},
   "outputs": [],
   "source": [
    "iris=datasets.load_iris()\n",
    "x=iris.data\n",
    "y=iris.target\n"
   ]
  },
  {
   "cell_type": "code",
   "execution_count": 19,
   "metadata": {},
   "outputs": [],
   "source": [
    "x_train,x_test,y_train,y_test=train_test_split(x,y)"
   ]
  },
  {
   "cell_type": "code",
   "execution_count": 23,
   "metadata": {},
   "outputs": [
    {
     "data": {
      "text/plain": [
       "KNeighborsClassifier(algorithm='auto', leaf_size=30, metric='minkowski',\n",
       "           metric_params=None, n_jobs=1, n_neighbors=3, p=2,\n",
       "           weights='uniform')"
      ]
     },
     "execution_count": 23,
     "metadata": {},
     "output_type": "execute_result"
    }
   ],
   "source": [
    "clf=KNeighborsClassifier()\n",
    "grid={\"n_neighbors\":[3,5,7,9,11,13]}\n",
    "abc=GridSearchCV(clf,grid)\n",
    "abc.fit(x_train,y_train)\n",
    "abc.best_estimator_\n"
   ]
  },
  {
   "cell_type": "code",
   "execution_count": 25,
   "metadata": {},
   "outputs": [
    {
     "name": "stderr",
     "output_type": "stream",
     "text": [
      "c:\\python\\lib\\site-packages\\sklearn\\utils\\deprecation.py:122: FutureWarning: You are accessing a training score ('split0_train_score'), which will not be available by default any more in 0.21. If you need training scores, please set return_train_score=True\n",
      "  warnings.warn(*warn_args, **warn_kwargs)\n",
      "c:\\python\\lib\\site-packages\\sklearn\\utils\\deprecation.py:122: FutureWarning: You are accessing a training score ('split1_train_score'), which will not be available by default any more in 0.21. If you need training scores, please set return_train_score=True\n",
      "  warnings.warn(*warn_args, **warn_kwargs)\n",
      "c:\\python\\lib\\site-packages\\sklearn\\utils\\deprecation.py:122: FutureWarning: You are accessing a training score ('split2_train_score'), which will not be available by default any more in 0.21. If you need training scores, please set return_train_score=True\n",
      "  warnings.warn(*warn_args, **warn_kwargs)\n",
      "c:\\python\\lib\\site-packages\\sklearn\\utils\\deprecation.py:122: FutureWarning: You are accessing a training score ('mean_train_score'), which will not be available by default any more in 0.21. If you need training scores, please set return_train_score=True\n",
      "  warnings.warn(*warn_args, **warn_kwargs)\n",
      "c:\\python\\lib\\site-packages\\sklearn\\utils\\deprecation.py:122: FutureWarning: You are accessing a training score ('std_train_score'), which will not be available by default any more in 0.21. If you need training scores, please set return_train_score=True\n",
      "  warnings.warn(*warn_args, **warn_kwargs)\n"
     ]
    },
    {
     "data": {
      "text/plain": [
       "{'mean_fit_time': array([ 0.00066606,  0.00033196,  0.00096933,  0.        ,  0.00065708,\n",
       "         0.00032258]),\n",
       " 'std_fit_time': array([ 0.00047098,  0.00046946,  0.00077991,  0.        ,  0.00046479,\n",
       "         0.0004562 ]),\n",
       " 'mean_score_time': array([ 0.00133451,  0.00066678,  0.00132593,  0.000995  ,  0.00100573,\n",
       "         0.00068291]),\n",
       " 'std_score_time': array([  4.69471361e-04,   4.71484192e-04,   4.39235158e-04,\n",
       "          3.31126319e-06,   8.25128144e-04,   4.83294566e-04]),\n",
       " 'param_n_neighbors': masked_array(data = [3 5 7 9 11 13],\n",
       "              mask = [False False False False False False],\n",
       "        fill_value = ?),\n",
       " 'params': [{'n_neighbors': 3},\n",
       "  {'n_neighbors': 5},\n",
       "  {'n_neighbors': 7},\n",
       "  {'n_neighbors': 9},\n",
       "  {'n_neighbors': 11},\n",
       "  {'n_neighbors': 13}],\n",
       " 'split0_test_score': array([ 0.97435897,  0.97435897,  0.97435897,  0.97435897,  0.97435897,\n",
       "         0.97435897]),\n",
       " 'split1_test_score': array([ 1.        ,  1.        ,  0.97297297,  1.        ,  0.97297297,\n",
       "         0.97297297]),\n",
       " 'split2_test_score': array([ 1.        ,  1.        ,  1.        ,  1.        ,  0.94444444,\n",
       "         0.94444444]),\n",
       " 'mean_test_score': array([ 0.99107143,  0.99107143,  0.98214286,  0.99107143,  0.96428571,\n",
       "         0.96428571]),\n",
       " 'std_test_score': array([ 0.0122155 ,  0.0122155 ,  0.01230337,  0.0122155 ,  0.01366762,\n",
       "         0.01366762]),\n",
       " 'rank_test_score': array([1, 1, 4, 1, 5, 5], dtype=int32),\n",
       " 'split0_train_score': array([ 1.        ,  1.        ,  0.98630137,  1.        ,  0.98630137,\n",
       "         0.98630137]),\n",
       " 'split1_train_score': array([ 0.97333333,  0.97333333,  0.98666667,  0.98666667,  0.98666667,\n",
       "         0.98666667]),\n",
       " 'split2_train_score': array([ 0.97368421,  0.97368421,  0.97368421,  0.96052632,  0.96052632,\n",
       "         0.96052632]),\n",
       " 'mean_train_score': array([ 0.98233918,  0.98233918,  0.98221742,  0.98239766,  0.97783145,\n",
       "         0.97783145]),\n",
       " 'std_train_score': array([ 0.01248891,  0.01248891,  0.00603573,  0.01639535,  0.01223749,\n",
       "         0.01223749])}"
      ]
     },
     "execution_count": 25,
     "metadata": {},
     "output_type": "execute_result"
    }
   ],
   "source": [
    "(abc.cv_results_)"
   ]
  },
  {
   "cell_type": "code",
   "execution_count": 28,
   "metadata": {},
   "outputs": [
    {
     "data": {
      "text/plain": [
       "SVC(C=1000.0, cache_size=200, class_weight=None, coef0=0.0,\n",
       "  decision_function_shape='ovr', degree=3, gamma=0.001, kernel='rbf',\n",
       "  max_iter=-1, probability=False, random_state=None, shrinking=True,\n",
       "  tol=0.001, verbose=False)"
      ]
     },
     "execution_count": 28,
     "metadata": {},
     "output_type": "execute_result"
    }
   ],
   "source": [
    "clf1=svm.SVC()\n",
    "grid1={'C':[1e2,1e3,5e3,1e4,1e5],\n",
    "     'gamma':[1e-3,5e-4,1e-4,5e-3]}\n",
    "abcd=GridSearchCV(clf1,grid1)\n",
    "abcd.fit(x_train,y_train)\n",
    "abcd.best_estimator_\n",
    "\n",
    "\n",
    "\n",
    "#higher the C we will make less training error so it will lead to overfitting\n"
   ]
  },
  {
   "cell_type": "code",
   "execution_count": 29,
   "metadata": {},
   "outputs": [
    {
     "name": "stderr",
     "output_type": "stream",
     "text": [
      "c:\\python\\lib\\site-packages\\sklearn\\utils\\deprecation.py:122: FutureWarning: You are accessing a training score ('split0_train_score'), which will not be available by default any more in 0.21. If you need training scores, please set return_train_score=True\n",
      "  warnings.warn(*warn_args, **warn_kwargs)\n",
      "c:\\python\\lib\\site-packages\\sklearn\\utils\\deprecation.py:122: FutureWarning: You are accessing a training score ('split1_train_score'), which will not be available by default any more in 0.21. If you need training scores, please set return_train_score=True\n",
      "  warnings.warn(*warn_args, **warn_kwargs)\n",
      "c:\\python\\lib\\site-packages\\sklearn\\utils\\deprecation.py:122: FutureWarning: You are accessing a training score ('split2_train_score'), which will not be available by default any more in 0.21. If you need training scores, please set return_train_score=True\n",
      "  warnings.warn(*warn_args, **warn_kwargs)\n",
      "c:\\python\\lib\\site-packages\\sklearn\\utils\\deprecation.py:122: FutureWarning: You are accessing a training score ('mean_train_score'), which will not be available by default any more in 0.21. If you need training scores, please set return_train_score=True\n",
      "  warnings.warn(*warn_args, **warn_kwargs)\n",
      "c:\\python\\lib\\site-packages\\sklearn\\utils\\deprecation.py:122: FutureWarning: You are accessing a training score ('std_train_score'), which will not be available by default any more in 0.21. If you need training scores, please set return_train_score=True\n",
      "  warnings.warn(*warn_args, **warn_kwargs)\n"
     ]
    },
    {
     "data": {
      "text/plain": [
       "{'mean_fit_time': array([ 0.00098999,  0.00100032,  0.00133689,  0.00067822,  0.00200407,\n",
       "         0.00066789,  0.00097307,  0.00049996,  0.00050012,  0.00051284,\n",
       "         0.00052222,  0.0004975 ,  0.00032735,  0.00083105,  0.00050076,\n",
       "         0.00050155,  0.00049965,  0.00016665,  0.00050012,  0.00049996]),\n",
       " 'std_fit_time': array([  1.89382341e-05,   1.25153985e-06,   6.24628538e-04,\n",
       "          2.51757476e-04,   2.12611183e-03,   2.35293437e-04,\n",
       "          3.76029226e-04,   3.89335909e-07,   5.94720425e-07,\n",
       "          1.61222209e-05,   1.66008893e-05,   2.99265709e-06,\n",
       "          2.31492777e-04,   2.39507757e-04,   2.92218150e-06,\n",
       "          3.44035797e-06,   9.98958356e-07,   2.35685177e-04,\n",
       "          5.94720425e-07,   3.89335909e-07]),\n",
       " 'mean_score_time': array([ 0.00033339,  0.00050028,  0.00066662,  0.00032226,  0.00032926,\n",
       "         0.00033188,  0.00016705,  0.        ,  0.00033251,  0.00033355,\n",
       "         0.00032187,  0.        ,  0.00048733,  0.00031209,  0.00050847,\n",
       "         0.00050251,  0.00033355,  0.0003341 ,  0.00016658,  0.00016673]),\n",
       " 'std_score_time': array([  2.35741554e-04,   1.14065012e-06,   2.37225727e-04,\n",
       "          2.28298651e-04,   2.32910507e-04,   2.34674379e-04,\n",
       "          2.36247135e-04,   0.00000000e+00,   2.35123299e-04,\n",
       "          2.35853945e-04,   2.27863311e-04,   0.00000000e+00,\n",
       "          1.75428125e-05,   2.20681092e-04,   1.96241649e-05,\n",
       "          2.59232623e-06,   2.35853945e-04,   2.36247135e-04,\n",
       "          2.35572785e-04,   2.35797568e-04]),\n",
       " 'param_C': masked_array(data = [100.0 100.0 100.0 100.0 1000.0 1000.0 1000.0 1000.0 5000.0 5000.0 5000.0\n",
       "  5000.0 10000.0 10000.0 10000.0 10000.0 100000.0 100000.0 100000.0 100000.0],\n",
       "              mask = [False False False False False False False False False False False False\n",
       "  False False False False False False False False],\n",
       "        fill_value = ?),\n",
       " 'param_gamma': masked_array(data = [0.001 0.0005 0.0001 0.005 0.001 0.0005 0.0001 0.005 0.001 0.0005 0.0001\n",
       "  0.005 0.001 0.0005 0.0001 0.005 0.001 0.0005 0.0001 0.005],\n",
       "              mask = [False False False False False False False False False False False False\n",
       "  False False False False False False False False],\n",
       "        fill_value = ?),\n",
       " 'params': [{'C': 100.0, 'gamma': 0.001},\n",
       "  {'C': 100.0, 'gamma': 0.0005},\n",
       "  {'C': 100.0, 'gamma': 0.0001},\n",
       "  {'C': 100.0, 'gamma': 0.005},\n",
       "  {'C': 1000.0, 'gamma': 0.001},\n",
       "  {'C': 1000.0, 'gamma': 0.0005},\n",
       "  {'C': 1000.0, 'gamma': 0.0001},\n",
       "  {'C': 1000.0, 'gamma': 0.005},\n",
       "  {'C': 5000.0, 'gamma': 0.001},\n",
       "  {'C': 5000.0, 'gamma': 0.0005},\n",
       "  {'C': 5000.0, 'gamma': 0.0001},\n",
       "  {'C': 5000.0, 'gamma': 0.005},\n",
       "  {'C': 10000.0, 'gamma': 0.001},\n",
       "  {'C': 10000.0, 'gamma': 0.0005},\n",
       "  {'C': 10000.0, 'gamma': 0.0001},\n",
       "  {'C': 10000.0, 'gamma': 0.005},\n",
       "  {'C': 100000.0, 'gamma': 0.001},\n",
       "  {'C': 100000.0, 'gamma': 0.0005},\n",
       "  {'C': 100000.0, 'gamma': 0.0001},\n",
       "  {'C': 100000.0, 'gamma': 0.005}],\n",
       " 'split0_test_score': array([ 0.97435897,  0.94871795,  0.8974359 ,  0.97435897,  1.        ,\n",
       "         0.97435897,  0.97435897,  0.97435897,  0.97435897,  1.        ,\n",
       "         0.97435897,  0.97435897,  0.97435897,  0.97435897,  1.        ,\n",
       "         0.97435897,  0.97435897,  0.97435897,  0.97435897,  0.97435897]),\n",
       " 'split1_test_score': array([ 0.97297297,  0.97297297,  0.91891892,  0.97297297,  1.        ,\n",
       "         0.97297297,  0.97297297,  1.        ,  1.        ,  1.        ,\n",
       "         0.97297297,  1.        ,  1.        ,  1.        ,  1.        ,\n",
       "         0.97297297,  0.97297297,  0.97297297,  1.        ,  0.97297297]),\n",
       " 'split2_test_score': array([ 1.        ,  1.        ,  0.88888889,  1.        ,  1.        ,\n",
       "         1.        ,  1.        ,  0.97222222,  0.97222222,  1.        ,\n",
       "         1.        ,  0.97222222,  0.97222222,  0.97222222,  1.        ,\n",
       "         0.97222222,  0.97222222,  0.97222222,  0.97222222,  0.97222222]),\n",
       " 'mean_test_score': array([ 0.98214286,  0.97321429,  0.90178571,  0.98214286,  1.        ,\n",
       "         0.98214286,  0.98214286,  0.98214286,  0.98214286,  1.        ,\n",
       "         0.98214286,  0.98214286,  0.98214286,  0.98214286,  1.        ,\n",
       "         0.97321429,  0.97321429,  0.97321429,  0.98214286,  0.97321429]),\n",
       " 'std_test_score': array([ 0.01230337,  0.02096638,  0.01253102,  0.01230337,  0.        ,\n",
       "         0.01230337,  0.01230337,  0.01257283,  0.01257283,  0.        ,\n",
       "         0.01230337,  0.01257283,  0.01257283,  0.01257283,  0.        ,\n",
       "         0.00088986,  0.00088986,  0.00088986,  0.01257283,  0.00088986]),\n",
       " 'rank_test_score': array([ 4, 15, 20,  4,  1,  4,  4,  4,  4,  1,  4,  4,  4,  4,  1, 15, 15,\n",
       "        15,  4, 15], dtype=int32),\n",
       " 'split0_train_score': array([ 0.95890411,  0.94520548,  0.90410959,  0.97260274,  0.98630137,\n",
       "         0.97260274,  0.95890411,  0.98630137,  0.98630137,  1.        ,\n",
       "         0.97260274,  1.        ,  0.98630137,  0.98630137,  0.98630137,\n",
       "         1.        ,  1.        ,  1.        ,  0.98630137,  1.        ]),\n",
       " 'split1_train_score': array([ 0.97333333,  0.98666667,  0.90666667,  1.        ,  0.98666667,\n",
       "         1.        ,  0.97333333,  0.98666667,  0.98666667,  0.98666667,\n",
       "         1.        ,  1.        ,  0.98666667,  0.98666667,  0.98666667,\n",
       "         1.        ,  1.        ,  1.        ,  0.98666667,  1.        ]),\n",
       " 'split2_train_score': array([ 0.96052632,  0.96052632,  0.92105263,  0.98684211,  0.98684211,\n",
       "         0.98684211,  0.96052632,  0.98684211,  0.98684211,  0.97368421,\n",
       "         0.98684211,  1.        ,  0.98684211,  0.98684211,  0.98684211,\n",
       "         1.        ,  1.        ,  1.        ,  0.98684211,  1.        ]),\n",
       " 'mean_train_score': array([ 0.96425459,  0.96413282,  0.91060963,  0.98648161,  0.98660338,\n",
       "         0.98648161,  0.96425459,  0.98660338,  0.98660338,  0.98678363,\n",
       "         0.98648161,  1.        ,  0.98660338,  0.98660338,  0.98660338,\n",
       "         1.        ,  1.        ,  1.        ,  0.98660338,  1.        ]),\n",
       " 'std_train_score': array([ 0.00645371,  0.01711749,  0.00745774,  0.01118779,  0.00022524,\n",
       "         0.01118779,  0.00645371,  0.00022524,  0.00022524,  0.01074369,\n",
       "         0.01118779,  0.        ,  0.00022524,  0.00022524,  0.00022524,\n",
       "         0.        ,  0.        ,  0.        ,  0.00022524,  0.        ])}"
      ]
     },
     "execution_count": 29,
     "metadata": {},
     "output_type": "execute_result"
    }
   ],
   "source": [
    "(abcd.cv_results_)"
   ]
  }
 ],
 "metadata": {
  "kernelspec": {
   "display_name": "Python 3",
   "language": "python",
   "name": "python3"
  },
  "language_info": {
   "codemirror_mode": {
    "name": "ipython",
    "version": 3
   },
   "file_extension": ".py",
   "mimetype": "text/x-python",
   "name": "python",
   "nbconvert_exporter": "python",
   "pygments_lexer": "ipython3",
   "version": "3.6.2"
  }
 },
 "nbformat": 4,
 "nbformat_minor": 2
}
